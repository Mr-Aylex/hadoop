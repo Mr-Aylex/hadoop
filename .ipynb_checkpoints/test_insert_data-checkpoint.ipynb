{
 "cells": [
  {
   "cell_type": "code",
   "execution_count": 1,
   "id": "acf06ac6",
   "metadata": {},
   "outputs": [],
   "source": [
    "import json"
   ]
  },
  {
   "cell_type": "code",
   "execution_count": 6,
   "id": "a597d942",
   "metadata": {},
   "outputs": [],
   "source": [
    "def reformaGeoJson(cause,year):\n",
    "\n",
    "    input_data = filter_data(cause, year)\n",
    "#     print(json.dumps(input_data,indent=4))\n",
    "    \n",
    "    with  open('./new_test.geojson', 'r',encoding='utf-8') as f:\n",
    "        geojson = json.load(f)\n",
    "\n",
    "        for fea in geojson['features']:\n",
    "            pay_target = fea['properties']['NAME']\n",
    "\n",
    "            if pay_target not in input_data.keys():\n",
    "                input_data[pay_target] = 0\n",
    "                print(f\"{pay_target}\")\n",
    "#                 print(f\"{pay_target=} no find , add 0 inside\")\n",
    "#             else:\n",
    "#                 print(f\"{pay_target=} find val : { input_data[pay_target]}\")\n",
    "            death = input_data[pay_target]\n",
    "\n",
    "            fea['properties'][cause] = death\n",
    "\n",
    "        \n",
    "#     print(json.dumps(geojson, indent=4))\n",
    "    newf = open(\"./templates/testdata.geojson\",'w')\n",
    "    newf.write(json.dumps(geojson, indent=4))\n",
    "    newf.close()\n",
    "\n",
    "\n",
    "def filter_data(cause,year):\n",
    "    outputData = dict()\n",
    "    with  open('./annual-number-of-deaths-by-country-and-year.json','r') as f:\n",
    "        data = json.load(f)\n",
    "        for pay,propreties in data[year].items():\n",
    "            if propreties is not None and cause in propreties.keys() and propreties[cause] is not None:\n",
    "                outputData[pay] = propreties[cause]\n",
    "            else :\n",
    "                outputData[pay] = 0\n",
    "    return outputData"
   ]
  },
  {
   "cell_type": "code",
   "execution_count": 7,
   "id": "03a50e0e",
   "metadata": {},
   "outputs": [
    {
     "ename": "TypeError",
     "evalue": "'encode' is an invalid keyword argument for open()",
     "output_type": "error",
     "traceback": [
      "\u001b[1;31m---------------------------------------------------------------------------\u001b[0m",
      "\u001b[1;31mTypeError\u001b[0m                                 Traceback (most recent call last)",
      "Input \u001b[1;32mIn [7]\u001b[0m, in \u001b[0;36m<cell line: 9>\u001b[1;34m()\u001b[0m\n\u001b[0;32m      7\u001b[0m year\u001b[38;5;241m=\u001b[39m \u001b[38;5;124m'\u001b[39m\u001b[38;5;124m2007\u001b[39m\u001b[38;5;124m'\u001b[39m\n\u001b[0;32m      8\u001b[0m cause \u001b[38;5;241m=\u001b[39m \u001b[38;5;124m'\u001b[39m\u001b[38;5;124mCardiovascular_diseases\u001b[39m\u001b[38;5;124m'\u001b[39m\n\u001b[1;32m----> 9\u001b[0m \u001b[43mreformaGeoJson\u001b[49m\u001b[43m(\u001b[49m\u001b[43mcause\u001b[49m\u001b[43m,\u001b[49m\u001b[43myear\u001b[49m\u001b[43m)\u001b[49m\n",
      "Input \u001b[1;32mIn [6]\u001b[0m, in \u001b[0;36mreformaGeoJson\u001b[1;34m(cause, year)\u001b[0m\n\u001b[0;32m      3\u001b[0m     input_data \u001b[38;5;241m=\u001b[39m filter_data(cause, year)\n\u001b[0;32m      4\u001b[0m \u001b[38;5;66;03m#     print(json.dumps(input_data,indent=4))\u001b[39;00m\n\u001b[1;32m----> 6\u001b[0m     \u001b[38;5;28;01mwith\u001b[39;00m  \u001b[38;5;28;43mopen\u001b[39;49m\u001b[43m(\u001b[49m\u001b[38;5;124;43m'\u001b[39;49m\u001b[38;5;124;43m./new_test.geojson\u001b[39;49m\u001b[38;5;124;43m'\u001b[39;49m\u001b[43m,\u001b[49m\u001b[43m \u001b[49m\u001b[38;5;124;43m'\u001b[39;49m\u001b[38;5;124;43mr\u001b[39;49m\u001b[38;5;124;43m'\u001b[39;49m\u001b[43m,\u001b[49m\u001b[43mencode\u001b[49m\u001b[38;5;241;43m=\u001b[39;49m\u001b[38;5;124;43m'\u001b[39;49m\u001b[38;5;124;43mutf-8\u001b[39;49m\u001b[38;5;124;43m'\u001b[39;49m\u001b[43m)\u001b[49m \u001b[38;5;28;01mas\u001b[39;00m f:\n\u001b[0;32m      7\u001b[0m         geojson \u001b[38;5;241m=\u001b[39m json\u001b[38;5;241m.\u001b[39mload(f)\n\u001b[0;32m      9\u001b[0m         \u001b[38;5;28;01mfor\u001b[39;00m fea \u001b[38;5;129;01min\u001b[39;00m geojson[\u001b[38;5;124m'\u001b[39m\u001b[38;5;124mfeatures\u001b[39m\u001b[38;5;124m'\u001b[39m]:\n",
      "\u001b[1;31mTypeError\u001b[0m: 'encode' is an invalid keyword argument for open()"
     ]
    }
   ],
   "source": [
    "# input_data = {\n",
    "#   'Afghanistan':'25616',\n",
    "#   'United Arab Emirates':'5616',\n",
    "#   'Armenia':'25616',\n",
    "# }\n",
    "\n",
    "year= '2007'\n",
    "cause = 'Cardiovascular_diseases'\n",
    "reformaGeoJson(cause,year)"
   ]
  },
  {
   "cell_type": "code",
   "execution_count": 32,
   "id": "c491877d",
   "metadata": {},
   "outputs": [],
   "source": [
    "for fea in geojson['features']:\n",
    "    pay_target = fea['properties']['NAME']\n",
    "    \n",
    "    if pay_target not in input_data.keys():\n",
    "        input_data[pay_target] = 0\n",
    "    death = input_data[pay_target]\n",
    "    \n",
    "    fea['properties'][cause] = death\n"
   ]
  },
  {
   "cell_type": "code",
   "execution_count": 33,
   "id": "f26c9e32",
   "metadata": {},
   "outputs": [],
   "source": [
    "newf = open(\"./testdata.geojson\",'w')\n",
    "\n",
    "newf.write(json.dumps(geojson, indent=4))\n",
    "newf.close()"
   ]
  },
  {
   "cell_type": "code",
   "execution_count": 28,
   "id": "b4d29a45",
   "metadata": {},
   "outputs": [],
   "source": [
    "def filter_data ( year , cause):\n",
    "    outputData = {}\n",
    "    with  open('./annual-number-of-deaths-by-country-and-year.json','r') as f:\n",
    "        data = json.load(f)\n",
    "        for pay,propreties in data[year].items():\n",
    "            if propreties is not None:\n",
    "                if cause in propreties.keys() and propreties[cause] is not None :\n",
    "                    outputData[pay] = propreties[cause]\n",
    "                else:\n",
    "                    outputData[pay] = 0\n",
    "            else : \n",
    "                outputData[pay] = 0\n",
    "    return outputData"
   ]
  },
  {
   "cell_type": "code",
   "execution_count": 37,
   "id": "736c4e9c",
   "metadata": {},
   "outputs": [
    {
     "ename": "KeyError",
     "evalue": "'Meningitis'",
     "output_type": "error",
     "traceback": [
      "\u001b[1;31m---------------------------------------------------------------------------\u001b[0m",
      "\u001b[1;31mKeyError\u001b[0m                                  Traceback (most recent call last)",
      "Input \u001b[1;32mIn [37]\u001b[0m, in \u001b[0;36m<cell line: 3>\u001b[1;34m()\u001b[0m\n\u001b[0;32m      1\u001b[0m year\u001b[38;5;241m=\u001b[39m \u001b[38;5;124m'\u001b[39m\u001b[38;5;124m2007\u001b[39m\u001b[38;5;124m'\u001b[39m\n\u001b[0;32m      2\u001b[0m cause \u001b[38;5;241m=\u001b[39m \u001b[38;5;124m'\u001b[39m\u001b[38;5;124mMeningitis\u001b[39m\u001b[38;5;124m'\u001b[39m\n\u001b[1;32m----> 3\u001b[0m input_data \u001b[38;5;241m=\u001b[39m \u001b[43mfilter_data\u001b[49m\u001b[43m(\u001b[49m\u001b[43myear\u001b[49m\u001b[43m,\u001b[49m\u001b[43mcause\u001b[49m\u001b[43m)\u001b[49m\n",
      "Input \u001b[1;32mIn [34]\u001b[0m, in \u001b[0;36mfilter_data\u001b[1;34m(cause, year)\u001b[0m\n\u001b[0;32m     24\u001b[0m \u001b[38;5;28;01mwith\u001b[39;00m  \u001b[38;5;28mopen\u001b[39m(\u001b[38;5;124m'\u001b[39m\u001b[38;5;124m./annual-number-of-deaths-by-country-and-year.json\u001b[39m\u001b[38;5;124m'\u001b[39m,\u001b[38;5;124m'\u001b[39m\u001b[38;5;124mr\u001b[39m\u001b[38;5;124m'\u001b[39m) \u001b[38;5;28;01mas\u001b[39;00m f:\n\u001b[0;32m     25\u001b[0m     data \u001b[38;5;241m=\u001b[39m json\u001b[38;5;241m.\u001b[39mload(f)\n\u001b[1;32m---> 26\u001b[0m     \u001b[38;5;28;01mfor\u001b[39;00m pay,propreties \u001b[38;5;129;01min\u001b[39;00m \u001b[43mdata\u001b[49m\u001b[43m[\u001b[49m\u001b[43myear\u001b[49m\u001b[43m]\u001b[49m\u001b[38;5;241m.\u001b[39mitems():\n\u001b[0;32m     27\u001b[0m         \u001b[38;5;28;01mif\u001b[39;00m propreties \u001b[38;5;129;01mis\u001b[39;00m \u001b[38;5;129;01mnot\u001b[39;00m \u001b[38;5;28;01mNone\u001b[39;00m \u001b[38;5;129;01mand\u001b[39;00m cause \u001b[38;5;129;01min\u001b[39;00m propreties\u001b[38;5;241m.\u001b[39mkeys() \u001b[38;5;129;01mand\u001b[39;00m propreties[cause] \u001b[38;5;129;01mis\u001b[39;00m \u001b[38;5;129;01mnot\u001b[39;00m \u001b[38;5;28;01mNone\u001b[39;00m:\n\u001b[0;32m     28\u001b[0m             outputData[pay] \u001b[38;5;241m=\u001b[39m propreties[cause]\n",
      "\u001b[1;31mKeyError\u001b[0m: 'Meningitis'"
     ]
    }
   ],
   "source": [
    "year= '2007'\n",
    "cause = 'Meningitis'\n",
    "input_data = filter_data(year,cause)\n",
    "\n"
   ]
  },
  {
   "cell_type": "code",
   "execution_count": null,
   "id": "56c2ee17",
   "metadata": {},
   "outputs": [],
   "source": []
  }
 ],
 "metadata": {
  "kernelspec": {
   "display_name": "Python 3 (ipykernel)",
   "language": "python",
   "name": "python3"
  },
  "language_info": {
   "codemirror_mode": {
    "name": "ipython",
    "version": 3
   },
   "file_extension": ".py",
   "mimetype": "text/x-python",
   "name": "python",
   "nbconvert_exporter": "python",
   "pygments_lexer": "ipython3",
   "version": "3.8.8"
  }
 },
 "nbformat": 4,
 "nbformat_minor": 5
}
